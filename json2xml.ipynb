import os
import json as JS 
import xml.etree.ElementTree as ET 
#path1 = "/content/drive/MyDrive/SmartDustbin/ann/"
path1 = r"C:\Users\KIIT\Downloads\Garbage\Garbage\garbage\ann\\"
path2 = r"C:\Users\KIIT\Downloads\ann1\\"
#path2 = r"C:\Users\KIIT\Downloads\ann\\"
from lxml import etree

def prettyPrintXml(xmlFilePathToPrettyPrint):
    assert xmlFilePathToPrettyPrint is not None
    parser = etree.XMLParser(resolve_entities=False, strip_cdata=False)
    document = etree.parse(xmlFilePathToPrettyPrint, parser)
    document.write(xmlFilePathToPrettyPrint, pretty_print=True, encoding='utf-8')
for filename in os.listdir(path1):
    nm = (os.path.splitext(filename)[0])
    #print(nm.split(".")[0])
    with open(path1+filename,"r") as json_file:
        data = JS.load(json_file);
        root = ET.Element("annotation") 
        folder = ET.SubElement(root, "folder") 
        filename = ET.SubElement(root, "filename")
        path  = ET.SubElement(root, "path")
        source = ET.SubElement(root, "source")
        database = ET.SubElement(source, "database")
        size = ET.SubElement(root, "size")
        width = ET.SubElement(size, "width")
        height = ET.SubElement(size, "height")
        depth = ET.SubElement(size, "depth")
        segmented = ET.SubElement(root, "segmented")
        object = ET.SubElement(root, "object")
        #name = ET.SubElement(object, "name")
        #pose = ET.SubElement(object, "pose")
        #truncated = ET.SubElement(object, "truncated")
        #difficult = ET.SubElement(object, "difficult")
        #bndbox = ET.SubElement(object, "bndbox")
        #xmin = ET.SubElement(bndbox, "xmin")
        #ymin = ET.SubElement(bndbox, "ymin")
        #xmax = ET.SubElement(bndbox, "xmax")
        #ymax = ET.SubElement(bndbox, "ymax")
        database.text = "Unknown"
        segmented.text = str(0)
        pose.text = "Unspecified"
        truncated.text = str(0)
        difficult.text = str(0)
        folder.text = "Garbage"
        filename.text = nm
        path.text = r"C:\Users\KIIT\Downloads\Garbage" + str("\\"+nm)
        height.text = str(data["size"]["height"])
        width.text = str(data["size"]["width"])
        depth.text = str(3)
        
        for i in range(len(data['objects'])):
            ET.SubElement(object, "name").text = data['objects'][i]['classTitle']
            ET.SubElement(object, "pose").text = "Unspecified"
            ET.SubElement(object, "truncated").text = str(0)
            ET.SubElement(object, "difficult").text = str(0)
            bndbox = ET.SubElement(object, "bndbox")
            ET.SubElement(bndbox, "xmin").text = str(data['objects'][i]["points"]["exterior"][0][0])
            ET.SubElement(bndbox, "ymin").text = str(data['objects'][i]["points"]["exterior"][0][1])
            ET.SubElement(bndbox, "xmax").text = str(data['objects'][i]["points"]["exterior"][1][0])
            ET.SubElement(bndbox, "ymax").text = str(data['objects'][i]["points"]["exterior"][1][1])
        tree = ET.ElementTree(root) 
        tree.write(path2+nm.split(".")[0]+".xml")
        prettyPrintXml(path2+nm.split(".")[0]+".xml")
