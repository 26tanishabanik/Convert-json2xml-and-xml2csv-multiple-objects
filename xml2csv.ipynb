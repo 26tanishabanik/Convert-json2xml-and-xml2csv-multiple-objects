from xml.etree import ElementTree
import os
import csv
path3 = r"C:\Users\KIIT\Downloads\ann1\\"
path4 = r"C:\Users\KIIT\Downloads\ann2\\"
for filename in os.listdir(path3):
    tree = ElementTree.parse(path3+filename)
    new_data = open(path4+os.path.splitext(filename)[0]+'.csv','w',newline='',encoding='utf-8')
    csvwriter = csv.writer(new_data)
    col_names=['filename','xmin','ymin','xmax','ymax']
    csvwriter.writerow(col_names)
    root = tree.getroot()
    for data in root.findall('object'):
        ed=[]
    
    for d in data.findall('bndbox'):
        #data1 = data.find('bndbox')
        event = root.find('filename').text
        ed.append(event)
        data2 = d.find('xmin')
        data2 = data2.text
        ed.append(data2)
        data2 = d.find('ymin')
        data2 = data2.text
        ed.append(data2)
        data2 = d.find('xmax')
        data2 = data2.text
        ed.append(data2)
        data2 = d.find('ymax')
        data2 = data2.text
        ed.append(data2)
        csvwriter.writerow(ed)
        ed=[]
    new_data.close()
    
    
